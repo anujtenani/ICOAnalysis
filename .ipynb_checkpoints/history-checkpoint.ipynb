{
 "cells": [
  {
   "cell_type": "code",
   "execution_count": 27,
   "metadata": {},
   "outputs": [
    {
     "data": {
      "text/plain": [
       "'\\nGet the transaction history of the ERC20 tokens. \\nAuthor: Jinhua Wang\\nLicense: MIT\\nPowered by Etherscan.io APIs\\n'"
      ]
     },
     "execution_count": 27,
     "metadata": {},
     "output_type": "execute_result"
    }
   ],
   "source": [
    "'''\n",
    "Get the transaction history of the ERC20 tokens. \n",
    "Author: Jinhua Wang\n",
    "License: MIT\n",
    "Powered by Etherscan.io APIs\n",
    "'''"
   ]
  },
  {
   "cell_type": "code",
   "execution_count": 28,
   "metadata": {},
   "outputs": [],
   "source": [
    "from bs4 import BeautifulSoup\n",
    "import urllib3\n",
    "#disable the annoying security warnings\n",
    "urllib3.disable_warnings(urllib3.exceptions.InsecureRequestWarning)\n",
    "import sys\n",
    "import ratel"
   ]
  },
  {
   "cell_type": "code",
   "execution_count": 29,
   "metadata": {},
   "outputs": [],
   "source": [
    "#the base url for etherscan\n",
    "baseUrl='https://etherscan.io/'\n",
    "#the connection pool\n",
    "pool=urllib3.PoolManager(5)\n",
    "#number of threads\n",
    "numthread=5\n",
    "\n",
    "#get the API key\n",
    "key=''\n",
    "keyarr=[]\n",
    "keyfile='../Credentials/etherscankey.txt'\n",
    "with open(keyfile) as f:\n",
    "    keyarr = f.readlines()\n",
    "if len(keyarr)==0 or keyarr[0] == '':\n",
    "    print \"API Key Not Found in Directory! Aborting ...\"\n",
    "    sys.exit(0)\n",
    "key=keyarr[0]\n",
    "\n",
    "#limit the rate that the api could be called\n",
    "@ratel.rate_limited(5,1)\n",
    "def call_api(url):\n",
    "    '''\n",
    "    Make API calls \n",
    "    '''    \n",
    "    r=pool.request('GET',url)\n",
    "    if r.status != 200:\n",
    "        raise ApiError('Cannot call API: {}'.format(response.status_code))\n",
    "    return response\n",
    "\n"
   ]
  }
 ],
 "metadata": {
  "kernelspec": {
   "display_name": "Python 2",
   "language": "python",
   "name": "python2"
  },
  "language_info": {
   "codemirror_mode": {
    "name": "ipython",
    "version": 2
   },
   "file_extension": ".py",
   "mimetype": "text/x-python",
   "name": "python",
   "nbconvert_exporter": "python",
   "pygments_lexer": "ipython2",
   "version": "2.7.13"
  }
 },
 "nbformat": 4,
 "nbformat_minor": 2
}
