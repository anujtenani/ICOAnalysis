{
 "cells": [
  {
   "cell_type": "code",
   "execution_count": 7,
   "metadata": {},
   "outputs": [
    {
     "data": {
      "text/plain": [
       "'\\nAnalysis on how the ownership of a token holder change\\n'"
      ]
     },
     "execution_count": 7,
     "metadata": {},
     "output_type": "execute_result"
    }
   ],
   "source": [
    "'''\n",
    "Analysis on how the ownership of a token holder change\n",
    "'''"
   ]
  },
  {
   "cell_type": "code",
   "execution_count": 8,
   "metadata": {},
   "outputs": [],
   "source": [
    "from bs4 import BeautifulSoup\n",
    "import urllib3"
   ]
  },
  {
   "cell_type": "code",
   "execution_count": 9,
   "metadata": {},
   "outputs": [
    {
     "name": "stderr",
     "output_type": "stream",
     "text": [
      "/usr/local/lib/python2.7/site-packages/urllib3/connectionpool.py:852: InsecureRequestWarning: Unverified HTTPS request is being made. Adding certificate verification is strongly advised. See: https://urllib3.readthedocs.io/en/latest/advanced-usage.html#ssl-warnings\n",
      "  InsecureRequestWarning)\n"
     ]
    },
    {
     "name": "stdout",
     "output_type": "stream",
     "text": [
      "[[(u'Rank', u'1'), (u'Address', u'0xd0a6e6c54dbc68db5db3a091b171a77407ff7ccf (EOSCrowdsale)'), (u'Quantity (Token)', u'663037530.298454685788795826'), (u'Percentage', u'66.3038%')], [(u'Rank', u'2'), (u'Address', u'0x00000000000000000000000000000000000000b1'), (u'Quantity (Token)', u'100000000'), (u'Percentage', u'10.0000%')], [(u'Rank', u'3'), (u'Address', u'0x42da8a05cb7ed9a43572b5ba1b8f82a0a6e263dc (yunbi_2)'), (u'Quantity (Token)', u'35160347.008970204988273462'), (u'Percentage', u'3.5160%')], [(u'Rank', u'4'), (u'Address', u'0xf4b51b14b9ee30dc37ec970b50a486f37686e2a8'), (u'Quantity (Token)', u'13926010.71600623992561125'), (u'Percentage', u'1.3926%')], [(u'Rank', u'5'), (u'Address', u'0x174443351e21d47ed9ab51517a301107d92ede64'), (u'Quantity (Token)', u'13732674.086746046713939295'), (u'Percentage', u'1.3733%')], [(u'Rank', u'6'), (u'Address', u'0xe2dd88165572932944ba72ab6ed143f9a9855a81'), (u'Quantity (Token)', u'4400000'), (u'Percentage', u'0.4400%')], [(u'Rank', u'7'), (u'Address', u'0xb819dfe8927f1055467c957083a752e2f67e4d65'), (u'Quantity (Token)', u'3501904.1259534863410148'), (u'Percentage', u'0.3502%')], [(u'Rank', u'8'), (u'Address', u'0x0aaca9876ec3fe0245daec6b17c52786800ebb7b'), (u'Quantity (Token)', u'3286042.110821179088012886'), (u'Percentage', u'0.3286%')], [(u'Rank', u'9'), (u'Address', u'0x6dde928226f1bccf0932396c7f8501c61c04577a'), (u'Quantity (Token)', u'3270733.065416924461507353'), (u'Percentage', u'0.3271%')], [(u'Rank', u'10'), (u'Address', u'0x8a8f09adb437b2bfdbb4ae53ad82c7791ef443f1'), (u'Quantity (Token)', u'2510747.8'), (u'Percentage', u'0.2511%')], [(u'Rank', u'11'), (u'Address', u'0xd53d9a11dd1fe5ba2dea96cd6c61a7f81dc1c80c'), (u'Quantity (Token)', u'2472287.8'), (u'Percentage', u'0.2472%')], [(u'Rank', u'12'), (u'Address', u'0x9adf5079abf6757acb36216c7c44399090d70f87'), (u'Quantity (Token)', u'2283195.326713494106549568'), (u'Percentage', u'0.2283%')], [(u'Rank', u'13'), (u'Address', u'0x768a8b7927a3756f659b853d01f370f1d20c82e5'), (u'Quantity (Token)', u'2205798.85'), (u'Percentage', u'0.2206%')], [(u'Rank', u'14'), (u'Address', u'0xe7e561fc67d0008e590fd383fc0fe1571fb7b27e'), (u'Quantity (Token)', u'2147559.479552865826666565'), (u'Percentage', u'0.2148%')], [(u'Rank', u'15'), (u'Address', u'0x91136d2250fef45d08d3e34bf9e450a7067456d7'), (u'Quantity (Token)', u'2093734.385042202631629896'), (u'Percentage', u'0.2094%')], [(u'Rank', u'16'), (u'Address', u'0xa27b29df3664fe34a8d942477a8e1279ba0faca7'), (u'Quantity (Token)', u'2000668.27435321183101961'), (u'Percentage', u'0.2001%')], [(u'Rank', u'17'), (u'Address', u'0x74d909a29c7ed931ac89e52b72948fa63eb48f04'), (u'Quantity (Token)', u'1987101.039750355664611462'), (u'Percentage', u'0.1987%')], [(u'Rank', u'18'), (u'Address', u'0x2069fcf4b950039a6af59d551b9a3abe81a8a629'), (u'Quantity (Token)', u'1914919.212419561167526698'), (u'Percentage', u'0.1915%')], [(u'Rank', u'19'), (u'Address', u'0x4efd35e6668339e983134a1d214bdce0f785abb1'), (u'Quantity (Token)', u'1914704.456271605691804175'), (u'Percentage', u'0.1915%')], [(u'Rank', u'20'), (u'Address', u'0xff0cb0351a356ad16987e5809a8daaaf34f5adbe'), (u'Quantity (Token)', u'1840766.98247550619305'), (u'Percentage', u'0.1841%')], [(u'Rank', u'21'), (u'Address', u'0xb3f636cae9e8ad9795d14d3bdda3e382dba47c73'), (u'Quantity (Token)', u'1807071.30441341369'), (u'Percentage', u'0.1807%')], [(u'Rank', u'22'), (u'Address', u'0x4752218e54de423f86c0501933917aea08c8fed5'), (u'Quantity (Token)', u'1693505.623877465697606'), (u'Percentage', u'0.1694%')], [(u'Rank', u'23'), (u'Address', u'0x9d3319b7f704eadb0dfbdbffb73fd4c36af0e0b3'), (u'Quantity (Token)', u'1608431.509837389386383873'), (u'Percentage', u'0.1608%')], [(u'Rank', u'24'), (u'Address', u'0x2cf00fb28d3bc7bbe3ddcb464407370ae18dd9e3'), (u'Quantity (Token)', u'1595618.2259711'), (u'Percentage', u'0.1596%')], [(u'Rank', u'25'), (u'Address', u'0xa0fb53e1c0c9492b846ee737a3eec6098581c964'), (u'Quantity (Token)', u'1583035.32'), (u'Percentage', u'0.1583%')], [(u'Rank', u'26'), (u'Address', u'0x102732759f5d132df1423218258f320ffa0cc3e4'), (u'Quantity (Token)', u'1528855.266792816289087454'), (u'Percentage', u'0.1529%')], [(u'Rank', u'27'), (u'Address', u'0x98da4188c90024c8d8dd56cea4cc11a95d7c52c5'), (u'Quantity (Token)', u'1514372.9'), (u'Percentage', u'0.1514%')], [(u'Rank', u'28'), (u'Address', u'0x167c94ef8ab94d95db3f6064e1b7c4ce4cd35a14'), (u'Quantity (Token)', u'1488290.784781154682184143'), (u'Percentage', u'0.1488%')], [(u'Rank', u'29'), (u'Address', u'0x94d139eb8b8af5e2ddf4a066b42d2eb388d51e18'), (u'Quantity (Token)', u'1389196.162224556598791618'), (u'Percentage', u'0.1389%')], [(u'Rank', u'30'), (u'Address', u'0x505145a011b6f3c0b683d7e737f332226ddbc65a'), (u'Quantity (Token)', u'1387061.37606209115032621'), (u'Percentage', u'0.1387%')], [(u'Rank', u'31'), (u'Address', u'0x1d73fe12a16f0299c1c9a01f324f7f37a34cca45'), (u'Quantity (Token)', u'1315350.726777580875347095'), (u'Percentage', u'0.1315%')], [(u'Rank', u'32'), (u'Address', u'0xcfdb636f3b32f1269b11a0f8c7a9a7c1cfaad22e'), (u'Quantity (Token)', u'1280897.704755580984433843'), (u'Percentage', u'0.1281%')], [(u'Rank', u'33'), (u'Address', u'0x698290d3becb95c7e36eb0ba3dbb3bb03c3a0fb3'), (u'Quantity (Token)', u'1187956.989874586889018686'), (u'Percentage', u'0.1188%')], [(u'Rank', u'34'), (u'Address', u'0x1dba1131000664b884a1ba238464159892252d3a (MultisigExploit-WhiteHat)'), (u'Quantity (Token)', u'920383.491237753096525'), (u'Percentage', u'0.0920%')], [(u'Rank', u'35'), (u'Address', u'0xd0a6421544e728887ba95e60abb97f4a6f2dc9b7'), (u'Quantity (Token)', u'912337.50426709'), (u'Percentage', u'0.0912%')], [(u'Rank', u'36'), (u'Address', u'0xb43eae4bb250b9d3c7a8d3421373c218c5447f9f'), (u'Quantity (Token)', u'851145.0595221981592135'), (u'Percentage', u'0.0851%')], [(u'Rank', u'37'), (u'Address', u'0xc0d57780bd9084f932a7ad9fc57d3aa18f1ab21c'), (u'Quantity (Token)', u'805519'), (u'Percentage', u'0.0806%')], [(u'Rank', u'38'), (u'Address', u'0x9c00c631b36ba5d93ed8f5279a4c55e6c2ba7c66'), (u'Quantity (Token)', u'766986.2426981275804375'), (u'Percentage', u'0.0767%')], [(u'Rank', u'39'), (u'Address', u'0x69ea6b31ef305d6b99bb2d4c9d99456fa108b02a'), (u'Quantity (Token)', u'761848.47476756465'), (u'Percentage', u'0.0762%')], [(u'Rank', u'40'), (u'Address', u'0xa16ba68474b5d593979c78a4b250d033e5e48e2a'), (u'Quantity (Token)', u'750000.404192726403309462'), (u'Percentage', u'0.0750%')], [(u'Rank', u'41'), (u'Address', u'0x131b3e88e71e56713013a3c770753aa7578e8f84'), (u'Quantity (Token)', u'734576.472026675501398533'), (u'Percentage', u'0.0735%')], [(u'Rank', u'42'), (u'Address', u'0x3361ff7206f09da9e747b689fea95e77b05da6b4'), (u'Quantity (Token)', u'693880.172656483238796945'), (u'Percentage', u'0.0694%')], [(u'Rank', u'43'), (u'Address', u'0xfb7733592773aca8816ddb904f1bb0123a4b2d95'), (u'Quantity (Token)', u'688766.87734108'), (u'Percentage', u'0.0689%')], [(u'Rank', u'44'), (u'Address', u'0x1151314c646ce4e0efd76d1af4760ae66a9fe30f (Bitfinex_Wallet1)'), (u'Quantity (Token)', u'666678.731227034793453361'), (u'Percentage', u'0.0667%')], [(u'Rank', u'45'), (u'Address', u'0x0e4d757ae5f693f3ea4cdf7c89df92b273bdba0f'), (u'Quantity (Token)', u'633211.782461627284429571'), (u'Percentage', u'0.0633%')], [(u'Rank', u'46'), (u'Address', u'0xed6fe5687f5b3b571a49398c797ffbeb8f306b76'), (u'Quantity (Token)', u'623099.623567958846347425'), (u'Percentage', u'0.0623%')], [(u'Rank', u'47'), (u'Address', u'0xe3f5ed01e4990f990e1f0eb8d67c364c3c584ce6'), (u'Quantity (Token)', u'614087'), (u'Percentage', u'0.0614%')], [(u'Rank', u'48'), (u'Address', u'0xa3da370e7e81fd7889a0c3f050c46646a9d6a2ab'), (u'Quantity (Token)', u'613588.99415850206435'), (u'Percentage', u'0.0614%')], [(u'Rank', u'49'), (u'Address', u'0x6dcd4cbcd6767d798a47a4bfcd0aaec3cba2a301'), (u'Quantity (Token)', u'605699.27136739'), (u'Percentage', u'0.0606%')], [(u'Rank', u'50'), (u'Address', u'0x55228583b7b41e138d7129bb81714dc6f739ec22'), (u'Quantity (Token)', u'582951'), (u'Percentage', u'0.0583%')], [(u'Rank', u'51'), (u'Address', u'0xb461899df2a59d26c09c28cc36efccd9ecd252b1'), (u'Quantity (Token)', u'575886.803623291461620622'), (u'Percentage', u'0.0576%')], [(u'Rank', u'52'), (u'Address', u'0xf6387de51ae0ea118c78a76f69966559d990b099'), (u'Quantity (Token)', u'559899.957169633133719375'), (u'Percentage', u'0.0560%')], [(u'Rank', u'53'), (u'Address', u'0x1961957dccf75873bf4c06e9cd283426c9c7bba7'), (u'Quantity (Token)', u'543021.122333689080213395'), (u'Percentage', u'0.0543%')], [(u'Rank', u'54'), (u'Address', u'0x3ec693b07b59712822f655d1693474c8ba8e5426'), (u'Quantity (Token)', u'526472.655426149590665048'), (u'Percentage', u'0.0526%')], [(u'Rank', u'55'), (u'Address', u'0x0b37bd754be6b656c04c1bd87938d1737b993b27'), (u'Quantity (Token)', u'517848.98'), (u'Percentage', u'0.0518%')], [(u'Rank', u'56'), (u'Address', u'0xf8b2fecaedb541e8291f3ef5ee3449547087fa80'), (u'Quantity (Token)', u'514734.756898024722777911'), (u'Percentage', u'0.0515%')], [(u'Rank', u'57'), (u'Address', u'0x00fa6a5cb14eb1e33f874d2566481dd02bdb21a1'), (u'Quantity (Token)', u'500000.491237753096525'), (u'Percentage', u'0.0500%')], [(u'Rank', u'58'), (u'Address', u'0xeb1ef4a298c1d374500da98fdd2d67aa9bcfbcb3'), (u'Quantity (Token)', u'479518.385690620485175834'), (u'Percentage', u'0.0480%')], [(u'Rank', u'59'), (u'Address', u'0xd50343c9aa5b5c0cc665eebe5c266597cdedd8bf'), (u'Quantity (Token)', u'473390.044883225927666669'), (u'Percentage', u'0.0473%')], [(u'Rank', u'60'), (u'Address', u'0xae026c6587c54d6eca1189603575296c62463b13'), (u'Quantity (Token)', u'467284.06289'), (u'Percentage', u'0.0467%')], [(u'Rank', u'61'), (u'Address', u'0x81eaacb3be853c02cf57c0f99418782da43062c5'), (u'Quantity (Token)', u'457007.393466719607637564'), (u'Percentage', u'0.0457%')], [(u'Rank', u'62'), (u'Address', u'0x8799aabadb2a4007ac3cbbb7c4f64e3b93b62f64'), (u'Quantity (Token)', u'444427.8888'), (u'Percentage', u'0.0444%')], [(u'Rank', u'63'), (u'Address', u'0x000ea6df3b680cb96f66a42041235d1ed776ef4f'), (u'Quantity (Token)', u'442691.6'), (u'Percentage', u'0.0443%')], [(u'Rank', u'64'), (u'Address', u'0x5a2e0f5c5c06db93acec6adf4c8121785b4a4d0c'), (u'Quantity (Token)', u'442358.676056070562581571'), (u'Percentage', u'0.0442%')], [(u'Rank', u'65'), (u'Address', u'0x461cabf33bc851bb71351176d61ce1d6307e20c9'), (u'Quantity (Token)', u'436833'), (u'Percentage', u'0.0437%')], [(u'Rank', u'66'), (u'Address', u'0xbbf9e9b6eabdf77d83db6537cfb832cdb486bf1b'), (u'Quantity (Token)', u'420000.075'), (u'Percentage', u'0.0420%')], [(u'Rank', u'67'), (u'Address', u'0x500b1f314cf22cc622ac8ec72c1c6097799fa7b6'), (u'Quantity (Token)', u'417826.5581'), (u'Percentage', u'0.0418%')], [(u'Rank', u'68'), (u'Address', u'0x6cd41ce11a19d204f28309c04e347224d62bfc4e'), (u'Quantity (Token)', u'413179.6'), (u'Percentage', u'0.0413%')], [(u'Rank', u'69'), (u'Address', u'0x65c2e4bf64e8224a556208004d86669de7128d09'), (u'Quantity (Token)', u'412153.24639673984'), (u'Percentage', u'0.0412%')], [(u'Rank', u'70'), (u'Address', u'0xc4cff9ef57da4698be1fa1175153c71a4e6f1a16'), (u'Quantity (Token)', u'387502.925425889601209277'), (u'Percentage', u'0.0388%')], [(u'Rank', u'71'), (u'Address', u'0xa6a1fd66f8eb61a4382c578150a48967966bb418'), (u'Quantity (Token)', u'367453.905041760546256641'), (u'Percentage', u'0.0367%')], [(u'Rank', u'72'), (u'Address', u'0xcf8b837673fef2c14099d5db8d8344532180502b'), (u'Quantity (Token)', u'361503.78'), (u'Percentage', u'0.0362%')], [(u'Rank', u'73'), (u'Address', u'0x5f81e71b32c30f63ade14c06598abc2bb93e92d1'), (u'Quantity (Token)', u'339519'), (u'Percentage', u'0.0340%')], [(u'Rank', u'74'), (u'Address', u'0xe9548e9604aec3680ae1e14237ea3722d020b512'), (u'Quantity (Token)', u'336094.44013994'), (u'Percentage', u'0.0336%')], [(u'Rank', u'75'), (u'Address', u'0xa63481a18f5bfcd9ccd30775c7ec5085ee3eb7f6'), (u'Quantity (Token)', u'327728.001'), (u'Percentage', u'0.0328%')], [(u'Rank', u'76'), (u'Address', u'0x09d4693f64d87da0a6ec509fcb240433cb531917'), (u'Quantity (Token)', u'319009.7'), (u'Percentage', u'0.0319%')], [(u'Rank', u'77'), (u'Address', u'0xe03a617d1d06b823d24e9281057b069948359f1b'), (u'Quantity (Token)', u'307683.3201'), (u'Percentage', u'0.0308%')], [(u'Rank', u'78'), (u'Address', u'0xf0d85814abed9702f0f032a7b38f4b514ccbecbe'), (u'Quantity (Token)', u'306804.497079251032175'), (u'Percentage', u'0.0307%')], [(u'Rank', u'79'), (u'Address', u'0x06c234ddf496edd1b2257687a710c7ab5497b90b'), (u'Quantity (Token)', u'306796.497079251032175'), (u'Percentage', u'0.0307%')], [(u'Rank', u'80'), (u'Address', u'0x5fe32cff7a780d75d3ce244c4fa617fc31265f47'), (u'Quantity (Token)', u'306793.4'), (u'Percentage', u'0.0307%')], [(u'Rank', u'81'), (u'Address', u'0x41742561c2e9e82a702617d83bff52a3ca1e1796'), (u'Quantity (Token)', u'305519'), (u'Percentage', u'0.0306%')], [(u'Rank', u'82'), (u'Address', u'0xdb7b85f792e7ff56abe78b03338ed24fbd088464'), (u'Quantity (Token)', u'304769.653398527975362645'), (u'Percentage', u'0.0305%')], [(u'Rank', u'83'), (u'Address', u'0xd47297cdcf36eed17305d6a5471c6cd482c7e91c'), (u'Quantity (Token)', u'303398.4711492178522839'), (u'Percentage', u'0.0303%')], [(u'Rank', u'84'), (u'Address', u'0x9cc7012c8f2dab9937cc767dc713365bf9c814ca'), (u'Quantity (Token)', u'301000.995190791419454275'), (u'Percentage', u'0.0301%')], [(u'Rank', u'85'), (u'Address', u'0xd53c3ee719ce711d40c0f4bace8200b82d530318'), (u'Quantity (Token)', u'300768.234718958000922'), (u'Percentage', u'0.0301%')], [(u'Rank', u'86'), (u'Address', u'0xb7f915d073c0c184cd56fcc9a7f31290d61e8f36'), (u'Quantity (Token)', u'300099.8'), (u'Percentage', u'0.0300%')], [(u'Rank', u'87'), (u'Address', u'0xd853c00075f5a913f118c939e15510937f6af0c8'), (u'Quantity (Token)', u'295519.1'), (u'Percentage', u'0.0296%')], [(u'Rank', u'88'), (u'Address', u'0x1126fcf3f1d02a3ca5044e8917d4e68dc94e3252'), (u'Quantity (Token)', u'292063.82844'), (u'Percentage', u'0.0292%')], [(u'Rank', u'89'), (u'Address', u'0xe47a0dc60c6b105dab29e36077e25b2fd38d23df'), (u'Quantity (Token)', u'287570.1915'), (u'Percentage', u'0.0288%')], [(u'Rank', u'90'), (u'Address', u'0x819a3262713c046cd94e650dd1235dde6b99927d'), (u'Quantity (Token)', u'278458.236501492001794836'), (u'Percentage', u'0.0278%')], [(u'Rank', u'91'), (u'Address', u'0xdaf799ee19d1b03a3f79667852ffa4f52d557131'), (u'Quantity (Token)', u'277798.626872834743732874'), (u'Percentage', u'0.0278%')], [(u'Rank', u'92'), (u'Address', u'0xf6ae888a62166b763fae9d83e5661de8da2ff8ef'), (u'Quantity (Token)', u'277710.37875613803432481'), (u'Percentage', u'0.0278%')], [(u'Rank', u'93'), (u'Address', u'0xf25b4b134d8e755df60d69ba2f66f04bbf3a8f66'), (u'Quantity (Token)', u'273643.69525755'), (u'Percentage', u'0.0274%')], [(u'Rank', u'94'), (u'Address', u'0xf15736ec725ff33cfd06d30fd20d78ebc6485b25'), (u'Quantity (Token)', u'269959.00318264'), (u'Percentage', u'0.0270%')], [(u'Rank', u'95'), (u'Address', u'0x9a7ea9286abb84b255bb5f8d74a0d81b3684ab99'), (u'Quantity (Token)', u'260836.681416779227555185'), (u'Percentage', u'0.0261%')], [(u'Rank', u'96'), (u'Address', u'0xfb758640c2bee2b7c00c7742bba66ffb435ea4c2'), (u'Quantity (Token)', u'260166.54106'), (u'Percentage', u'0.0260%')], [(u'Rank', u'97'), (u'Address', u'0x03206e106ddd7cf12510ef9052f4d22f43280e34'), (u'Quantity (Token)', u'256834.19'), (u'Percentage', u'0.0257%')], [(u'Rank', u'98'), (u'Address', u'0xc1bbbd726143aa09745c7557e2d4c8e59b551493'), (u'Quantity (Token)', u'251483.719794839636398991'), (u'Percentage', u'0.0251%')], [(u'Rank', u'99'), (u'Address', u'0xb95313cb20afcbafe9cbb0414edbe436eab0bc88'), (u'Quantity (Token)', u'250973'), (u'Percentage', u'0.0251%')], [(u'Rank', u'100'), (u'Address', u'0x0862afd90666944a0b6be91aa6364afc134969a2'), (u'Quantity (Token)', u'250000.7456188765482625'), (u'Percentage', u'0.0250%')]]\n"
     ]
    }
   ],
   "source": [
    "baseUrl='https://etherscan.io/'\n",
    "funUrl_chart='token/tokenholderchart/'\n",
    "tokenid='0x86fa049857e0209aa7d9e616f7eb3b3b78ecfdb0'\n",
    "\n",
    "pool=urllib3.PoolManager()\n",
    "r=pool.request('GET',baseUrl+funUrl_chart+tokenid)\n",
    "webdata=r.data\n",
    "\n",
    "soup = BeautifulSoup(webdata)\n",
    "table = soup.find(\"table\", attrs={\"class\":\"table table-hover \"})\n",
    "headings = [th.get_text() for th in table.find(\"tr\").find_all(\"th\")]\n",
    "datasets = []\n",
    "for row in table.find_all(\"tr\")[1:]:\n",
    "    dataset = zip(headings, (td.get_text() for td in row.find_all(\"td\")))\n",
    "    datasets.append(dataset)\n",
    "print datasets"
   ]
  }
 ],
 "metadata": {
  "kernelspec": {
   "display_name": "Python 2",
   "language": "python",
   "name": "python2"
  },
  "language_info": {
   "codemirror_mode": {
    "name": "ipython",
    "version": 2
   },
   "file_extension": ".py",
   "mimetype": "text/x-python",
   "name": "python",
   "nbconvert_exporter": "python",
   "pygments_lexer": "ipython2",
   "version": "2.7.13"
  }
 },
 "nbformat": 4,
 "nbformat_minor": 2
}
